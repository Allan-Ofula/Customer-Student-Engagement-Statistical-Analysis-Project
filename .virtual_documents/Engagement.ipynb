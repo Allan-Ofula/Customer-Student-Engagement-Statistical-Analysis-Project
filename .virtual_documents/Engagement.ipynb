








# Importing necessary packages
import pandas as pd
import numpy as np
import matplotlib.pyplot as plt
import seaborn as sns
from scipy.stats import norm

# Loading the Excel file
xls = pd.ExcelFile("Engagement Project.xlsx")

# Preview available sheets
print(xls.sheet_names)


# Load "Task 1 and 2" sheet, skipping first 3 rows to align headers correctly
df_task1_2 = pd.read_excel(xls, sheet_name="Task 1 and 2", skiprows=3)
print(df_task1_2)





# Dropping completely empty columns
df_task1_2 = df_task1_2.dropna(axis=1, how='all')

# Ensuring first row is correctly set as column headers
df_task1_2.columns = df_task1_2.iloc[0]  
df_task1_2 = df_task1_2[1:].reset_index(drop=True)

# Renaming columns for clarity
df_task1_2.columns = [
    "student_id", "paid", "minutes_watched_21", "minutes_watched_22", 
    "free_student_id", "free_paid", "free_minutes_watched_21", "free_minutes_watched_22"
]


# Converting numerical columns to appropriate types
num_cols = ["minutes_watched_21", "minutes_watched_22", "free_minutes_watched_21", "free_minutes_watched_22"]
df_task1_2[num_cols] = df_task1_2[num_cols].apply(pd.to_numeric, errors="coerce")

# Splitting into Paid and Free DataFrames
df_paid = df_task1_2[["student_id", "paid", "minutes_watched_21", "minutes_watched_22"]].copy()
df_free = df_task1_2[["free_student_id", "free_paid", "free_minutes_watched_21", "free_minutes_watched_22"]].copy()


# Dropping NaN values for accurate statistical analysis
df_paid = df_paid.dropna()
df_free = df_free.dropna()

# Displaying dataset information
print("Paid Students DataFrame:\n", df_paid.head())
print("\nFree Students DataFrame:\n", df_free.head())


# Checking dataset shapes
print(f"Paid Plan Count: {df_paid.shape[0]}")
print(f"Free Plan Count: {df_free.shape[0]}")





# Checking for missing values
print(df_paid.isnull().sum())
print(df_free.isnull().sum())


#Checking for empty rows
print(df_paid.head(10))
print(df_paid.tail(10))


#Checking for empty rows
print(df_free.head(10))
print(df_free.tail(10))


# Dropping the NaN values
df_paid = df_paid.dropna().reset_index(drop=True)
print(df_paid.isnull().sum())


# Dropping the NaN values
df_free = df_free.dropna().reset_index(drop=True)
print(df_free.isnull().sum())





# Converting columns to appropriate types
df_paid = df_paid.astype({
    "student_id": int, 
    "paid": int, 
    "minutes_watched_21": float, 
    "minutes_watched_22": float
})
print(df_paid)


df_free


# Converting columns to appropriate types with correct column names
df_free = df_free.astype({
    "free_student_id": int, 
    "free_paid": int, 
    "free_minutes_watched_21": float, 
    "free_minutes_watched_22": float
})

# Verifying the data types after conversion
print(df_free.dtypes)


# Summary statistics for paid users and free users
print(df_paid.describe())  
print(df_free.describe())  





# Filtering paid_students who watched between 1 and 100 minutes in Q4 2021 
low_engagement_paid = df_paid[
    (df_paid["minutes_watched_21"] >= 1) &  # Selects students who watched at least 1 minute
    (df_paid["minutes_watched_21"] <= 100)  # Selects students who watched at most 100 minutes
]

# Results
print(low_engagement_paid)


# Filtering free students who watched between 1 and 100 minutes in Q4 2021
low_engagement_free = df_free[
    (df_free["free_minutes_watched_21"] >= 1) &  # Corrected column name
    (df_free["free_minutes_watched_21"] <= 100)  # Corrected column name
]

# Results
print(low_engagement_free)





# Filtering _paid_students who watched content in both Q4 2021 and Q4 2022
repeated_students_paid = df_paid[
    (df_paid["minutes_watched_21"] > 0) &  # Watched some content in Q4 2021
    (df_paid["minutes_watched_22"] > 0)    # Watched some content in Q4 2022
]

# Results
print(repeated_students_paid)


# Filtering free_students who watched content in both Q4 2021 and Q4 2022
repeated_students_free = df_free[
    (df_free["free_minutes_watched_21"] > 0) &  # Watched some content in Q4 2021
    (df_free["free_minutes_watched_22"] > 0)    # Watched some content in Q4 2022
]

# Results
print(repeated_students_free)








# Descriptive statistics for low-engagement paid users
low_engagement_paid_users = low_engagement_paid[["minutes_watched_21"]].describe()
print("Low-Engagement Paid Users (Q4 2021) Statistics:\n", low_engagement_paid_users)


# Descriptive statistics for low-engagement free users
low_engagement_free_users = low_engagement_free[["free_minutes_watched_21"]].describe()
print("Low-Engagement Free Users (Q4 2021) Statistics:\n", low_engagement_free_users)





# Descriptive statistics for repeated paid_students
repeated_paid_students_stats = repeated_students_paid[["minutes_watched_21", "minutes_watched_22"]].describe()
print("\nRepeated Students (Q4 2021 & Q4 2022) Statistics:\n", repeated_paid_students_stats)





# Checking the first few rows of both datasets
print(df_paid.head())
print(df_free.head())





# Descriptive statistics for Paid Users
paid_stats = df_paid[["minutes_watched_21", "minutes_watched_22"]].describe()
print("Paid Users Engagement Statistics:\n", paid_stats)

# Descriptive statistics for Free Users
free_stats = df_free[["free_minutes_watched_21", "free_minutes_watched_22"]].describe()
print("Free Users Engagement Statistics:\n", free_stats)





# Setting style
sns.set_style("whitegrid")

# Boxplot for engagement comparison
plt.figure(figsize=(12, 6))

# Combining the datasets for easier visualization
df_paid["Plan"] = "Paid"
df_free.rename(columns={
    "free_minutes_watched_21": "minutes_watched_21",
    "free_minutes_watched_22": "minutes_watched_22"
}, inplace=True)
df_free["Plan"] = "Free"

df_combined = pd.concat([df_paid, df_free], ignore_index=True)

# Creating boxplot
sns.boxplot(x="Plan", y="minutes_watched_21", data=df_combined)
plt.title("Engagement Comparison (Minutes Watched in Q4 2021)")
plt.ylabel("Minutes Watched")

#Display
plt.show()








from scipy.stats import ttest_ind, shapiro, levene

# Ensuring the columns are numeric
for col in ["minutes_watched_21", "minutes_watched_22"]:
    df_paid[col] = pd.to_numeric(df_paid[col], errors='coerce')
    df_free[col] = pd.to_numeric(df_free[col], errors='coerce')

# Dropping NaN values only from relevant columns
df_paid = df_paid.dropna(subset=["minutes_watched_21", "minutes_watched_22"]).reset_index(drop=True)
df_free = df_free.dropna(subset=["minutes_watched_21", "minutes_watched_22"]).reset_index(drop=True)


# Checking normality (Shapiro-Wilk test)
stat1, p1 = shapiro(df_paid["minutes_watched_21"])
stat2, p2 = shapiro(df_free["minutes_watched_21"])
print(f"Shapiro Test Paid Users: p-value={p1:.4f}")
print(f"Shapiro Test Free Users: p-value={p2:.4f}")

# Checking variance equality (Levene's test)
stat_lev, p_lev = levene(df_paid["minutes_watched_21"], df_free["minutes_watched_21"])
print(f"Levene's Test for Equal Variance: p-value={p_lev:.4f}")

# Performing Independent T-Test
t_stat, p_value = ttest_ind(df_paid["minutes_watched_21"], df_free["minutes_watched_21"], equal_var=(p_lev > 0.05))
print(f"T-Test Result: t-statistic={t_stat:.4f}, p-value={p_value:.4f}")





# Performing Shapiro-Wilk normality test for Q4 2022
shapiro_paid_22 = shapiro(df_paid["minutes_watched_22"])
shapiro_free_22 = shapiro(df_free["minutes_watched_22"])
print(f"Shapiro Test Paid Users (Q4 2022): p-value={shapiro_paid_22.pvalue:.4f}")
print(f"Shapiro Test Free Users (Q4 2022): p-value={shapiro_free_22.pvalue:.4f}")

# Levene's test for equality of variances for Q4 2022
levene_test_22 = levene(df_paid["minutes_watched_22"], df_free["minutes_watched_22"])
print(f"Levene's Test for Equal Variance (Q4 2022): p-value={levene_test_22.pvalue:.4f}")

# Independent t-test for Q4 2022 engagement
t_test_22 = ttest_ind(df_paid["minutes_watched_22"], df_free["minutes_watched_22"], equal_var=False)
print(f"T-Test Result (Q4 2022): t-statistic={t_test_22.statistic:.4f}, p-value={t_test_22.pvalue:.4f}")











# Defining figure size
fig, axes = plt.subplots(1, 2, figsize=(16, 6)) 

# Histogram for Q4 2021
sns.histplot(df_paid["minutes_watched_21"], color='blue', label="Paid Users", kde=True, bins=50, alpha=0.5, ax=axes[0])
sns.histplot(df_free["minutes_watched_21"], color='red', label="Free Users", kde=True, bins=50, alpha=0.5, ax=axes[0])
axes[0].set_title("Engagement Distribution (Q4 2021)", fontsize=16)
axes[0].set_xlabel("Minutes Watched", fontsize=14)
axes[0].set_ylabel("Frequency", fontsize=14)
axes[0].legend()
axes[0].grid(axis='y', linestyle='--', alpha=0.7)

# Histogram for Q4 2022 
sns.histplot(df_paid["minutes_watched_22"], color='blue', label="Paid Users", kde=True, bins=50, alpha=0.5, ax=axes[1])
sns.histplot(df_free["minutes_watched_22"], color='red', label="Free Users", kde=True, bins=50, alpha=0.5, ax=axes[1])
axes[1].set_title("Engagement Distribution (Q4 2022)", fontsize=16)
axes[1].set_xlabel("Minutes Watched", fontsize=14)
axes[1].set_ylabel("Frequency", fontsize=14)
axes[1].legend()
axes[1].grid(axis='y', linestyle='--', alpha=0.7)

# Display
plt.tight_layout()
plt.show()











import numpy as np

# Defining engagement bins (grouping by minutes watched in intervals)
bins = np.arange(0, 110, 10)  # 0-10, 10-20, ..., 90-100+
labels = [f"{i}-{i+10}" for i in bins[:-1]]

# Assigning bins to the data
df_paid["bins_21"] = pd.cut(df_paid["minutes_watched_21"], bins=bins, labels=labels)
df_paid["bins_22"] = pd.cut(df_paid["minutes_watched_22"], bins=bins, labels=labels)

df_free["bins_21"] = pd.cut(df_free["minutes_watched_21"], bins=bins, labels=labels)
df_free["bins_22"] = pd.cut(df_free["minutes_watched_22"], bins=bins, labels=labels)

# Counting how many users fall into each bin
paid_counts_21 = df_paid["bins_21"].value_counts().sort_index()
paid_counts_22 = df_paid["bins_22"].value_counts().sort_index()

free_counts_21 = df_free["bins_21"].value_counts().sort_index()
free_counts_22 = df_free["bins_22"].value_counts().sort_index()

# Creating line plot
plt.figure(figsize=(12, 6))

plt.plot(labels, paid_counts_21, label="Paid Users (Q4 2021)", color="blue", linestyle="dashed", marker="o")
plt.plot(labels, paid_counts_22, label="Paid Users (Q4 2022)", color="blue", linestyle="solid", marker="o")

plt.plot(labels, free_counts_21, label="Free Users (Q4 2021)", color="red", linestyle="dashed", marker="o")
plt.plot(labels, free_counts_22, label="Free Users (Q4 2022)", color="red", linestyle="solid", marker="o")

plt.xlabel("Minutes Watched (Bins)", fontsize=14)
plt.ylabel("User Count", fontsize=14)
plt.title("Engagement Trends: Q4 2021 vs. Q4 2022", fontsize=16)
plt.legend()
plt.grid(axis='y', linestyle='--', alpha=0.7)

# Display
plt.show()











from scipy.stats import skew, kurtosis

# Calculating skewness and kurtosis for Paid users (1 = Paid)
skew_q4_2021_paid = skew(df_task1_2[df_task1_2['paid'] == 1]['minutes_watched_21'])
kurt_q4_2021_paid = kurtosis(df_task1_2[df_task1_2['paid'] == 1]['minutes_watched_21'])

skew_q4_2022_paid = skew(df_task1_2[df_task1_2['paid'] == 1]['minutes_watched_22'])
kurt_q4_2022_paid = kurtosis(df_task1_2[df_task1_2['paid'] == 1]['minutes_watched_22'])

# Filter out extreme outliers (e.g., above 99th percentile)
free_q4_21_filtered = df_task1_2['free_minutes_watched_21'][df_task1_2['free_minutes_watched_21'] < df_task1_2['free_minutes_watched_21'].quantile(0.99)]
free_q4_22_filtered = df_task1_2['free_minutes_watched_22'][df_task1_2['free_minutes_watched_22'] < df_task1_2['free_minutes_watched_22'].quantile(0.99)]

# Calculating skewness and kurtosis for Free users (0 = Free)
skew_q4_21_free = skew(free_q4_21_filtered)
kurt_q4_21_free = kurtosis(free_q4_21_filtered)

skew_q4_22_free = skew(free_q4_22_filtered)
kurt_q4_22_free = kurtosis(free_q4_22_filtered)

# Results
print("Q4 2021 - Paid Users: Skewness =", skew_q4_2021_paid, ", Kurtosis =", kurt_q4_2021_paid)
print(f"Q4 2021 - Free Users: Skewness = {skew_q4_21_free}, Kurtosis = {kurt_q4_21_free}")
print("Q4 2022 - Paid Users: Skewness =", skew_q4_2022_paid, ", Kurtosis =", kurt_q4_2022_paid)
print(f"Q4 2022 - Free Users: Skewness = {skew_q4_22_free}, Kurtosis = {kurt_q4_22_free}")





# Creating a 2x2 subplot 
fig, axes = plt.subplots(2, 2, figsize=(14, 10))

# Plotting histograms for each category
sns.histplot(df_task1_2["minutes_watched_21"], bins=50, kde=True, ax=axes[0, 0], color="blue")
axes[0, 0].set_title("Histogram: Q4 2021 - Paid Users")

sns.histplot(df_task1_2["free_minutes_watched_21"], bins=50, kde=True, ax=axes[0, 1], color="green")
axes[0, 1].set_title("Histogram: Q4 2021 - Free Users")

sns.histplot(df_task1_2["minutes_watched_22"], bins=50, kde=True, ax=axes[1, 0], color="red")
axes[1, 0].set_title("Histogram: Q4 2022 - Paid Users")

sns.histplot(df_task1_2["free_minutes_watched_22"], bins=50, kde=True, ax=axes[1, 1], color="purple")
axes[1, 1].set_title("Histogram: Q4 2022 - Free Users")

# Display
plt.tight_layout()
plt.show()











# Loading Task 3 sheet
df_task3 = pd.read_excel("Engagement Project.xlsx", sheet_name="Task 3", header=None)  

# Preview the first few rows 
print(df_task3.head(10))


# Reloading Data properly to adrress header issues
df_task3 = pd.read_excel("Engagement Project.xlsx", sheet_name="Task 3", skiprows=5, header=None)

# Selecting only the relevant columns (ignoring empty ones)
df_task3 = df_task3.iloc[:, [1, 2, 4, 5]]

# Renaming columns properly
df_task3.columns = [
    "Paid_Minutes_Watched_21", "Paid_Minutes_Watched_22",
    "Free_Minutes_Watched_21", "Free_Minutes_Watched_22"
]

# Dropping any fully empty rows 
df_task3 = df_task3.dropna(how='all')
print(df_task3.head())


import numpy as np
import scipy.stats as stats

# Dataset (minutes watched)
free_2021 = df_task3["Free_Minutes_Watched_21"].dropna()
free_2022 = df_task3["Free_Minutes_Watched_22"].dropna()
paid_2021 = df_task3["Paid_Minutes_Watched_21"].dropna()
paid_2022 = df_task3["Paid_Minutes_Watched_22"].dropna()

# Calculating 95% confidence interval using z-statistic
def confidence_interval(data):
    mean = np.mean(data)
    std_dev = np.std(data, ddof=1)  # Sample standard deviation
    n = len(data)
    z_score = stats.norm.ppf(0.975)  # 1.96 for 95% CI
    margin_of_error = z_score * (std_dev / np.sqrt(n))
    return mean - margin_of_error, mean + margin_of_error

# Computing confidence intervals
ci_free_2021 = confidence_interval(free_2021)
ci_free_2022 = confidence_interval(free_2022)
ci_paid_2021 = confidence_interval(paid_2021)
ci_paid_2022 = confidence_interval(paid_2022)

# Results
print(f"Ci_free_2021: {ci_free_2021}")
print(f"Ci_free_2022: {ci_free_2022}")
print(f"Ci_paid_2021: {ci_paid_2021}")
print(f"Ci_paid_2022: {ci_paid_2022}")











# Dropping NaN values from each group
free_2021 = df_task3["Free_Minutes_Watched_21"].dropna()
free_2022 = df_task3["Free_Minutes_Watched_22"].dropna()
paid_2021 = df_task3["Paid_Minutes_Watched_21"].dropna()
paid_2022 = df_task3["Paid_Minutes_Watched_22"].dropna()

# Ensuring variance is non-zero before running statistical tests
if free_2021.var() == 0 or free_2022.var() == 0:
    print("Variance is zero in at least one Free-plan dataset. Statistical test cannot be performed.")
else:
    # Performing Welch's t-test
    t_stat_free, p_value_free = stats.ttest_ind(free_2022, free_2021, equal_var=False, alternative='greater')

    print(f"Free-plan t-statistic: {t_stat_free:.4f}, p-value: {p_value_free:.4f}")

    if p_value_free < 0.05:
        print("Reject Null Hypothesis for Free-plan: Engagement increased in Q4 2022.")
    else:
        print("Fail to Reject Null Hypothesis for Free-plan: No significant increase in engagement.")

if paid_2021.var() == 0 or paid_2022.var() == 0:
    print("Variance is zero in at least one Paid-plan dataset. Statistical test cannot be performed.")
else:
    # Performing Welch's t-test
    t_stat_paid, p_value_paid = stats.ttest_ind(paid_2022, paid_2021, equal_var=False, alternative='greater')

    print(f"Paid-plan t-statistic: {t_stat_paid:.4f}, p-value: {p_value_paid:.4f}")

    if p_value_paid < 0.05:
        print("Reject Null Hypothesis for Paid-plan: Engagement increased in Q4 2022.")
    else:
        print("Fail to Reject Null Hypothesis for Paid-plan: No significant increase in engagement.")








# Computing variances
var_free_2021 = free_2021.var(ddof=1)  # Sample variance
var_free_2022 = free_2022.var(ddof=1)
var_paid_2021 = paid_2021.var(ddof=1)
var_paid_2022 = paid_2022.var(ddof=1)

# Computing F-statistics
F_stat_free = var_free_2021 / var_free_2022
F_stat_paid = var_paid_2021 / var_paid_2022

# Computing degrees of freedom
df1_free = len(free_2021) - 1
df2_free = len(free_2022) - 1
df1_paid = len(paid_2021) - 1
df2_paid = len(paid_2022) - 1

# Computing p-values (two-tailed test)
p_value_f_free = 2 * min(stats.f.cdf(F_stat_free, df1_free, df2_free), 
                         1 - stats.f.cdf(F_stat_free, df1_free, df2_free))

p_value_f_paid = 2 * min(stats.f.cdf(F_stat_paid, df1_paid, df2_paid), 
                         1 - stats.f.cdf(F_stat_paid, df1_paid, df2_paid))

# Setting significance level
alpha = 0.05

# Results
print(f"Free-plan F-statistic: {F_stat_free:.4f}, p-value: {p_value_f_free:.4f}")
print(f"Paid-plan F-statistic: {F_stat_paid:.4f}, p-value: {p_value_f_paid:.4f}")

# Interpretation
if p_value_f_free < alpha:
    print("Significant difference in variance for Free-plan students.")
else:
    print("No significant difference in variance for Free-plan students.")

if p_value_f_paid < alpha:
    print("Significant difference in variance for Paid-plan students.")
else:
    print("No significant difference in variance for Paid-plan students.")








# Ensuring all arrays exist and are not empty
if any(arr is None or len(arr) == 0 for arr in [free_2021, free_2022, paid_2021, paid_2022]):
    raise ValueError("One or more datasets are missing or empty.")

# Creating labels based on actual dataset lengths
df = pd.DataFrame({
    'Minutes Watched': np.concatenate([free_2021, free_2022, paid_2021, paid_2022]),
    'Plan': (['Free'] * len(free_2021) + ['Free'] * len(free_2022) +
             ['Paid'] * len(paid_2021) + ['Paid'] * len(paid_2022)),
    'Quarter': (['Q4 2021'] * len(free_2021) + ['Q4 2022'] * len(free_2022) +
                ['Q4 2021'] * len(paid_2021) + ['Q4 2022'] * len(paid_2022))
})

# Setting plot style
sns.set(style="whitegrid")

# Creating Boxplots
plt.figure(figsize=(12, 6))
sns.boxplot(x="Plan", y="Minutes Watched", hue="Quarter", data=df, palette=["lightblue", "salmon"])
plt.title("Engagement Variance Comparison: Free vs. Paid Plan Students")
plt.ylabel("Minutes Watched")
plt.xlabel("Plan Type")
plt.legend(title="Quarter")
plt.show()





# Plotting Histograms
fig, axes = plt.subplots(1, 2, figsize=(14, 6))  

# Free Plan Histogram
sns.histplot(free_2021, bins=30, color="blue", label="Free Q4 2021", kde=True, alpha=0.6, ax=axes[0])
sns.histplot(free_2022, bins=30, color="red", label="Free Q4 2022", kde=True, alpha=0.6, ax=axes[0])
axes[0].set_title("Distribution of Minutes Watched (Free Plan)")
axes[0].set_xlabel("Minutes Watched")
axes[0].set_ylabel("Frequency")
axes[0].legend()

# Paid Plan Histogram
sns.histplot(paid_2021, bins=30, color="green", label="Paid Q4 2021", kde=True, alpha=0.6, ax=axes[1])
sns.histplot(paid_2022, bins=30, color="orange", label="Paid Q4 2022", kde=True, alpha=0.6, ax=axes[1])
axes[1].set_title("Distribution of Minutes Watched (Paid Plan)")
axes[1].set_xlabel("Minutes Watched")
axes[1].set_ylabel("Frequency")
axes[1].legend()

# Display
plt.tight_layout()
plt.show()














import scipy.stats as stats

# Loading dataset, skipping irrelevant rows
file_path = "Engagement Project.xlsx"
df = pd.read_excel(file_path, sheet_name="Task 5", skiprows=4, header=0)

# Dropping completely empty columns
df = df.dropna(axis=1, how="all")

# Renaming columns properly (remove extra spaces if any)
df.columns = df.columns.astype(str).str.strip()

# Converting relevant columns to numeric
df = df.apply(pd.to_numeric, errors='coerce')

# Displaying column names
print("Final Column Names:", df.columns.tolist())





# Checking missing values
print("\nMissing Value Count:")
print(df.isnull().sum())

# Missing Value Percentage
print("\nMissing Value Percentage:")
print((df.isnull().sum() / df.shape[0]) * 100)


# Removing Missing values
df_clean = df.dropna(subset=["minutes_watched_22_US"])

# Filling Missing Values Using Median
df["minutes_watched_22_US"] = df["minutes_watched_22_US"].fillna(df["minutes_watched_22_US"].median())


# Checking if there are any remaining missing values
print("Missing Value Count After Handling:")
print(df.isnull().sum())

# Checking if the column "minutes_watched_22_US" still has missing values
if df["minutes_watched_22_US"].isnull().sum() == 0:
    print("\n✅ All missing values in 'minutes_watched_22_US' have been handled successfully!")
else:
    print("\n⚠️ There are still missing values in 'minutes_watched_22_US'. Check your processing steps.")





# Performing the two-sample t-test (Welch’s t-test)
t_stat, p_value = stats.ttest_ind(
    df["minutes_watched_22_US"], 
    df["minutes_watched_22_IN"], 
    equal_var=False,  # Assumes unequal variances
    alternative="less"  # One-tailed test (US < India)
)

# Results
t_stat, p_value








# Calculating sample variances
var_US = df["minutes_watched_22_US"].var(ddof=1)  # Sample variance for US
var_IN = df["minutes_watched_22_IN"].var(ddof=1)  # Sample variance for India

# Computing F-statistic
F_stat = var_US / var_IN

# Computing p-value (two-tailed test)
df1 = len(df["minutes_watched_22_US"]) - 1  # Degrees of freedom for US
df2 = len(df["minutes_watched_22_IN"]) - 1  # Degrees of freedom for India

p_value = 2 * min(stats.f.cdf(F_stat, df1, df2), 1 - stats.f.cdf(F_stat, df1, df2))

# Results
print(f"F-statistic: {F_stat}")
print(f"P-value: {p_value}")








# Creating boxplots
plt.figure(figsize=(10, 5))
sns.boxplot(data=df_clean[["minutes_watched_22_US", "minutes_watched_22_IN"]], palette=["blue", "orange"])
plt.title("Comparison of Engagement Variance (US vs India)")
plt.ylabel("Minutes Watched in 2022")
plt.xlabel("Region")
plt.grid(True, linestyle="--", alpha=0.6)

# Display
plt.show()


















